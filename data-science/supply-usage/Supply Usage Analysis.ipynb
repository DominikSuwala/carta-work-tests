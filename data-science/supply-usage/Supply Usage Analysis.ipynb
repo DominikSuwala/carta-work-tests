{
 "cells": [
  {
   "cell_type": "markdown",
   "metadata": {},
   "source": [
    "# Introduction\n",
    "This is a test for seeing how well you can get around doing some basic statistical analyses on a dataset similar to the those that you would see while working at Carta.\n",
    "\n",
    "In this analysis, you are assuming the role of a data scientist assigned the goal of understanding the usage of surgical supplies for different procedures and surgeons. You have been given a dataset of the supplies that are used for each surgical case, and also a second dataset which gives you the price of each of the items used in surgery. The dataset encompasses the last month of surgeries at your hospital.\n",
    "\n",
    "## The Goal\n",
    "Your goal is to answer the following questions:\n",
    "\n",
    " 1. How many of each item were used over the last month?\n",
    " 2. What is the average number of items used for each procedure? \n",
    " 3. What is the average total cost of supplies for each procedure?\n",
    "\n",
    "### Total Item Usage\n",
    "The output for 1) should look like a table with the following columns:\n",
    "\n",
    "Item Name || Total Number of Items Used\n",
    "\n",
    "### Average Items per Procedure\n",
    "The output for 2) should be a table with the following columns:\n",
    "\n",
    "Procedure Name || Average Number of Items Used per Case\n",
    "\n",
    "### Average Cost per Procedure\n",
    "The output for 3) should be a table with the following columns:\n",
    "\n",
    "Procedure Name || Average Total Cost of Items Used per Case\n",
    "\n",
    "# Dataset Overview\n",
    "Here is an explanation of the dataset you have been given:\n",
    "\n",
    "## hospital-supply-usage.csv\n",
    "\n",
    "```\n",
    "case_id: A unique identifier for a single surgical case\n",
    "primary_surgeon: The surgeon on the case\n",
    "primary_procedure: The name of the procedure that was performed\n",
    "item_name: The name of the item used\n",
    "item_id: A unique id for each item\n",
    "number_used: The number of items used\n",
    "number_wasted: The number of items wasted\n",
    "```\n",
    "\n",
    "## pricing.csv\n",
    "```\n",
    "item_id: A unique identifier for the item (will match item_id in the hospital-supply-usage.csv dataset)\n",
    "price: The price of the item\n",
    "```\n",
    "\n",
    "# Sending your solution\n",
    "Once you're done, export your solution to a python file (File > Download as > Python), and send it to matt@carta.healthcare.\n",
    "\n",
    "Feel free to reach out if you have questions along the way!"
   ]
  },
  {
   "cell_type": "code",
   "execution_count": 5,
   "metadata": {},
   "outputs": [],
   "source": [
    "import numpy as np\n",
    "import pandas as pd\n",
    "\n",
    "USAGE_FILENAME = \"hospital-supply-usage.csv\"\n",
    "PRICING_FILENAME = \"pricing.csv\""
   ]
  },
  {
   "cell_type": "code",
   "execution_count": null,
   "metadata": {},
   "outputs": [],
   "source": []
  }
 ],
 "metadata": {
  "kernelspec": {
   "display_name": "Python 3",
   "language": "python",
   "name": "python3"
  },
  "language_info": {
   "codemirror_mode": {
    "name": "ipython",
    "version": 3
   },
   "file_extension": ".py",
   "mimetype": "text/x-python",
   "name": "python",
   "nbconvert_exporter": "python",
   "pygments_lexer": "ipython3",
   "version": "3.6.6"
  }
 },
 "nbformat": 4,
 "nbformat_minor": 2
}
