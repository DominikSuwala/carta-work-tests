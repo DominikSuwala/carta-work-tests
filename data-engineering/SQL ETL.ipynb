{
 "cells": [
  {
   "cell_type": "markdown",
   "metadata": {},
   "source": [
    "# Introduction\n",
    "This is a test for doing some basic ETL on data.\n",
    "\n",
    "## The Goal\n",
    "The goal of this task is to take a pair excel files, load them into SQL, and then transform the dataset into a separate schema (called FHIR).\n",
    "\n",
    "### Input data\n",
    "The input data is an pair of excel files with patient information in it. Each file represents an extract of a data system, each made a month apart. Each file includes patients discharged during the last two months, so the data will have intersecting data points, but the union of the two is really what you want.  In the boilerplate code below, you can see the file paths and open them up in excel to browse it if you'd like. Feel free to ask questions about the file formatting.\n",
    "\n",
    "# Exercise\n",
    "\n",
    "## Load into SQL\n",
    "First, begin by loading the data into a SQL database. We have Postgres running for you already, so use that. \n",
    "Username: carta\n",
    "Password: password\n",
    "\n",
    "The data should be a union of the data in both extract files, with an update time corresponding to the newest update date available for each row.\n",
    "\n",
    "## Transform into FHIR\n",
    "\n",
    "After the data is loaded into SQL, you'll produce some FHIR resources from the data. In particular, there are two resources you'll make:\n",
    "\n",
    "1) Patient\n",
    "2) Encounter\n",
    "\n",
    "Both of those are defined on the FHIR website, here: http://fhir.org. We will do a validation on the data once it's done!\n"
   ]
  },
  {
   "cell_type": "code",
   "execution_count": 1,
   "metadata": {},
   "outputs": [],
   "source": [
    "import pandas as pd\n",
    "import numpy as np\n",
    "from carta_interview import Datasets, get_data_file"
   ]
  },
  {
   "cell_type": "code",
   "execution_count": 2,
   "metadata": {},
   "outputs": [],
   "source": [
    "patient_extract1 = get_data_file(Datasets.PATIENT_EXTRACT1)\n",
    "patient_extract2 = get_data_file(Datasets.PATIENT_EXTRACT2)"
   ]
  },
  {
   "cell_type": "code",
   "execution_count": null,
   "metadata": {},
   "outputs": [],
   "source": []
  }
 ],
 "metadata": {
  "kernelspec": {
   "display_name": "Python 3",
   "language": "python",
   "name": "python3"
  },
  "language_info": {
   "codemirror_mode": {
    "name": "ipython",
    "version": 3
   },
   "file_extension": ".py",
   "mimetype": "text/x-python",
   "name": "python",
   "nbconvert_exporter": "python",
   "pygments_lexer": "ipython3",
   "version": "3.6.5"
  }
 },
 "nbformat": 4,
 "nbformat_minor": 2
}
